{
 "cells": [
  {
   "cell_type": "markdown",
   "id": "e31b6df6-231e-4c7f-ac2b-0f9673784c17",
   "metadata": {},
   "source": [
    "# Data Science Tools and Ecosystems"
   ]
  },
  {
   "cell_type": "markdown",
   "id": "65dfc545-026f-4305-9163-d385491fe843",
   "metadata": {},
   "source": [
    "In this notebook, Data Science Tools and Ecosystem are summarized."
   ]
  },
  {
   "cell_type": "markdown",
   "id": "04679d20-e00c-4955-9ea4-8f9f380c5231",
   "metadata": {},
   "source": [
    "**Objectives:**\n",
    "\n",
    "- List popular languages for Data Science\n",
    "- List common data science libraries\n",
    "- Demonstrate simple arithmetic operations in Python\n",
    "- Convert units (e.g., minutes to hours)\n",
    "\n"
   ]
  },
  {
   "cell_type": "markdown",
   "id": "6cebd11a-c0e4-47c1-82ac-65015c74e6b2",
   "metadata": {},
   "source": [
    "Some of the popular languages that Data Scientists use are:\n",
    "1. Python\n",
    "2. SQL\n",
    "3. R"
   ]
  },
  {
   "cell_type": "markdown",
   "id": "4942b6e7-9ca6-4cf4-a8f1-79cf23e139a9",
   "metadata": {},
   "source": [
    "Some of the commonly used libraries used by Data Scientists include:\n",
    "1. NumPy\n",
    "2. Pandas\n",
    "3. Matplotlib"
   ]
  },
  {
   "cell_type": "markdown",
   "id": "2cab3239-583e-4d5f-888a-441313ea19a1",
   "metadata": {},
   "source": [
    "| Data Science Tools |\n",
    "|--------------------|\n",
    "| Jupyter Notebook   |\n",
    "| RStudio            |\n",
    "| Jupyterlab         |\n"
   ]
  },
  {
   "cell_type": "markdown",
   "id": "c12d5cc3-c80a-4eff-aeac-e1090de58f56",
   "metadata": {},
   "source": [
    "### Below are a few examples of evaluating arithmetic expressions in Python\n"
   ]
  },
  {
   "cell_type": "code",
   "execution_count": 10,
   "id": "c17bfff0-acf0-4f66-a92b-da017ec8e6c6",
   "metadata": {},
   "outputs": [
    {
     "name": "stdout",
     "output_type": "stream",
     "text": [
      "17\n"
     ]
    }
   ],
   "source": [
    "# This is a simple arithmetic expression to multiply then add integers\n",
    "result = (3 * 4) + 5 \n",
    "print(result)"
   ]
  },
  {
   "cell_type": "code",
   "execution_count": 16,
   "id": "d4533d41-2ef0-4a2b-964a-6497ac340e9f",
   "metadata": {},
   "outputs": [
    {
     "name": "stdout",
     "output_type": "stream",
     "text": [
      "3.3333333333333335\n"
     ]
    }
   ],
   "source": [
    "#  This will convert 200 minutes to hours by diving by 60\n",
    "hours = 200 / 60\n",
    "print(hours)"
   ]
  },
  {
   "cell_type": "markdown",
   "id": "135325a9-0aa4-43f0-889e-236e758ca3d2",
   "metadata": {},
   "source": [
    "## Author\n",
    "\n",
    "Ross Coelho"
   ]
  },
  {
   "cell_type": "code",
   "execution_count": null,
   "id": "0294fede-6e60-4192-845a-9cee34d74ac7",
   "metadata": {},
   "outputs": [],
   "source": []
  }
 ],
 "metadata": {
  "kernelspec": {
   "display_name": "Python [conda env:base] *",
   "language": "python",
   "name": "conda-base-py"
  },
  "language_info": {
   "codemirror_mode": {
    "name": "ipython",
    "version": 3
   },
   "file_extension": ".py",
   "mimetype": "text/x-python",
   "name": "python",
   "nbconvert_exporter": "python",
   "pygments_lexer": "ipython3",
   "version": "3.12.7"
  }
 },
 "nbformat": 4,
 "nbformat_minor": 5
}
